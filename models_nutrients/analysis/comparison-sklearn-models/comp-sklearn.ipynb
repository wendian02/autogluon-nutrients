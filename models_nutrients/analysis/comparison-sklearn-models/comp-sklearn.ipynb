{
 "cells": [
  {
   "cell_type": "markdown",
   "source": [
    "# Compare sklearn models\n",
    "\n",
    "\n"
   ],
   "metadata": {
    "collapsed": false
   }
  },
  {
   "cell_type": "code",
   "execution_count": 1,
   "metadata": {
    "ExecuteTime": {
     "end_time": "2024-03-26T06:02:24.054051Z",
     "start_time": "2024-03-26T06:02:20.476257Z"
    }
   },
   "source": [
    "from sklearn import datasets\n",
    "from sklearn.model_selection import cross_val_score\n",
    "from sklearn.linear_model import LinearRegression\n",
    "from sklearn.tree import DecisionTreeRegressor\n",
    "from sklearn.ensemble import RandomForestRegressor\n",
    "from sklearn.svm import SVR\n",
    "from sklearn.neighbors import KNeighborsRegressor\n",
    "import pandas as pd\n",
    "import numpy as np\n",
    "import os\n",
    "from sklearn.linear_model import Ridge, Lasso, ElasticNet\n",
    "from sklearn.ensemble import GradientBoostingRegressor\n",
    "from sklearn.neural_network import MLPRegressor\n",
    "from matplotlib import pyplot as plt\n"
   ],
   "outputs": []
  },
  {
   "cell_type": "code",
   "execution_count": 2,
   "metadata": {
    "ExecuteTime": {
     "end_time": "2024-03-26T06:02:24.083871Z",
     "start_time": "2024-03-26T06:02:24.056061Z"
    }
   },
   "source": [
    "\n",
    "#  load data\n",
    "data_dir = '/Documents/Python/Nutrients/match_Acolite_L2/NN_input/with_qc'\n",
    "train_data = pd.read_csv(os.path.join(data_dir, 'train_autogl_mean.csv'))\n",
    "test_data = pd.read_csv(os.path.join(data_dir, 'test_autogl_mean.csv'))\n",
    "\n",
    "train_data = train_data.drop(['lon', 'lat', 'Id'], axis=1)\n",
    "test_data = test_data.drop(['lon', 'lat', 'Id'], axis=1)\n"
   ],
   "outputs": []
  },
  {
   "cell_type": "code",
   "execution_count": 3,
   "metadata": {
    "ExecuteTime": {
     "end_time": "2024-03-26T06:02:24.095999Z",
     "start_time": "2024-03-26T06:02:24.085052Z"
    }
   },
   "source": [
    "train_data.head()"
   ],
   "outputs": []
  },
  {
   "cell_type": "code",
   "execution_count": 4,
   "metadata": {
    "ExecuteTime": {
     "end_time": "2024-03-26T06:02:24.100288Z",
     "start_time": "2024-03-26T06:02:24.097505Z"
    }
   },
   "source": [
    "\n",
    "def convert_to_datetime(df):\n",
    "    \"extract year, month, day and day of week\"\n",
    "    df['date'] = pd.to_datetime(df['date'])\n",
    "    df['year'] = df['date'].dt.year\n",
    "    df['month'] = df['date'].dt.month\n",
    "    df['day'] = df['date'].dt.day\n",
    "    df['day_of_week'] = df['date'].dt.dayofweek\n",
    "\n",
    "    df = df.drop(['date'], axis=1)\n",
    "    return df\n"
   ],
   "outputs": []
  },
  {
   "cell_type": "code",
   "execution_count": 5,
   "metadata": {
    "ExecuteTime": {
     "end_time": "2024-03-26T06:02:24.116939Z",
     "start_time": "2024-03-26T06:02:24.103023Z"
    }
   },
   "source": [
    "train_data = convert_to_datetime(train_data)\n",
    "test_data = convert_to_datetime(test_data)\n",
    "train_data.head()"
   ],
   "outputs": []
  },
  {
   "cell_type": "code",
   "execution_count": 6,
   "metadata": {
    "ExecuteTime": {
     "end_time": "2024-03-26T06:02:24.121626Z",
     "start_time": "2024-03-26T06:02:24.118054Z"
    }
   },
   "source": [
    "\n",
    "\n",
    "# choose DIN as the example\n",
    "label_output = ['DIN','DIP']\n",
    "X_train, y_train = train_data.drop(label_output,axis=1), np.log(train_data[label_output[0]])\n",
    "X_test, y_test = test_data.drop(label_output,axis=1), np.log(test_data[label_output[0]])"
   ],
   "outputs": []
  },
  {
   "cell_type": "code",
   "execution_count": 7,
   "metadata": {
    "ExecuteTime": {
     "end_time": "2024-03-26T06:02:50.018891Z",
     "start_time": "2024-03-26T06:02:24.122735Z"
    }
   },
   "source": [
    "\n",
    "\n",
    "from nutrient_utils.my_utils import cal_performance\n",
    "\n",
    "models = [\n",
    "    ('Linear Regression', LinearRegression()),\n",
    "    ('Ridge Regression', Ridge()),\n",
    "    ('Lasso Regression', Lasso()),\n",
    "    ('ElasticNet', ElasticNet()),\n",
    "    ('Decision Tree', DecisionTreeRegressor()),\n",
    "    ('Random Forest', RandomForestRegressor()),\n",
    "    ('Gradient Boosting', GradientBoostingRegressor()),\n",
    "    ('SVR', SVR()),\n",
    "    ('KNN', KNeighborsRegressor()),\n",
    "    ('MLP', MLPRegressor(max_iter=1000))\n",
    "]\n",
    "\n",
    "\n",
    "results = []\n",
    "results_train = []\n",
    "names = []\n",
    "\n",
    "# validate each model\n",
    "for name, model in models:\n",
    "    model.fit(X_train, y_train)  # train the model\n",
    "    y_pred = model.predict(X_test)  # predict on test data\n",
    "    scores = cal_performance(y_test, y_pred)\n",
    "    results.append(scores)\n",
    "    \n",
    "    y_pred_train = model.predict(X_train)  # predict on train data\n",
    "    scores_train = cal_performance(np.exp(y_train), np.exp(y_pred_train))\n",
    "    results_train.append(scores_train)\n",
    "\n",
    "    names.append(name)\n",
    "    print(f'{name}: Average r2: {scores[0]}, rmse: {scores[1]}')\n",
    "\n",
    "    # plt.figure()\n",
    "    # plt.scatter(y_test,y_pred, label='True')\n",
    "    # plt.title(name + f' R2:{scores[0].round(2)} rmse:{scores[1].round(2)}',)\n",
    "    # plt.legend()\n",
    "    # plt.show()\n",
    "\n"
   ],
   "outputs": []
  },
  {
   "cell_type": "code",
   "execution_count": 8,
   "metadata": {
    "ExecuteTime": {
     "end_time": "2024-03-26T06:02:50.034406Z",
     "start_time": "2024-03-26T06:02:50.022877Z"
    }
   },
   "source": [
    "# df_name = pd.DataFrame(names)\n",
    "df_results = pd.DataFrame(results, index=names, columns=['r2', 'rmse', 'mape', 'n'])\n",
    "df_results\n",
    "\n",
    "# round to 2 decimal places\n",
    "df_results = df_results.round(2)\n",
    "df_results"
   ],
   "outputs": []
  },
  {
   "cell_type": "code",
   "execution_count": 9,
   "metadata": {
    "ExecuteTime": {
     "end_time": "2024-03-26T06:02:50.045273Z",
     "start_time": "2024-03-26T06:02:50.036395Z"
    }
   },
   "source": [
    "df_results_train = pd.DataFrame(results_train, index=names, columns=['r2', 'rmse', 'mape', 'n']).round(2)\n",
    "\n",
    "df_results_train\n"
   ],
   "outputs": []
  },
  {
   "cell_type": "code",
   "execution_count": 10,
   "metadata": {
    "ExecuteTime": {
     "end_time": "2024-03-26T06:02:50.063984Z",
     "start_time": "2024-03-26T06:02:50.047316Z"
    }
   },
   "source": [
    "# combine test and train results\n",
    "df_results_all = pd.concat([df_results, df_results_train], axis=1)\n",
    "df_results_all.columns = ['r2_test', 'rmse_test', 'mape_test', 'n_test', 'r2_train', 'rmse_train', 'mape_train', 'n_train']\n",
    "df_results_all\n",
    "\n",
    "# sort by r2\n",
    "df_results_all = df_results_all.sort_values(by='r2_test', ascending=False)\n",
    "df_results_all\n",
    "\n",
    "# change the index name\n",
    "df_results_all.index.name = 'model'\n",
    "\n",
    "# save to csv\n",
    "\n",
    "df_results_all.to_csv('model_performance.csv', index=True)\n",
    "\n",
    "df_results_all"
   ],
   "outputs": []
  }
 ],
 "metadata": {
  "kernelspec": {
   "display_name": "base",
   "language": "python",
   "name": "python3"
  },
  "language_info": {
   "codemirror_mode": {
    "name": "ipython",
    "version": 3
   },
   "file_extension": ".py",
   "mimetype": "text/x-python",
   "name": "python",
   "nbconvert_exporter": "python",
   "pygments_lexer": "ipython3",
   "version": "3.11.5"
  }
 },
 "nbformat": 4,
 "nbformat_minor": 2
}
