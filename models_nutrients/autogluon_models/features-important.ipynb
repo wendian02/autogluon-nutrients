{
 "cells": [
  {
   "metadata": {},
   "cell_type": "markdown",
   "source": "# DIN",
   "id": "391cac55d6c61f4e"
  },
  {
   "cell_type": "code",
   "id": "initial_id",
   "metadata": {
    "collapsed": true,
    "ExecuteTime": {
     "end_time": "2024-06-25T08:38:09.022785Z",
     "start_time": "2024-06-25T08:37:57.261907Z"
    }
   },
   "source": [
    "\n",
    "from autogluon.tabular import TabularDataset, TabularPredictor\n",
    "import numpy as np\n",
    "import os\n",
    "import pandas as pd\n",
    "from nutrient_utils.my_utils import *\n",
    "\n",
    "# load the model\n",
    "predictor_DIN = TabularPredictor.load('./AutogluonModels/autogl-DIN-without-lon-lat-logoutput-final')\n",
    "\n",
    "data_dir = 'Nutrients/match_Acolite_L2/NN_input/with_qc/'\n",
    "test_data = TabularDataset(os.path.join(data_dir, 'test_autogl_mean_Baozhuyu.csv'))\n",
    "\n",
    "id, label1, label2 = 'Id', 'DIN', 'DIP'\n",
    "\n",
    "\n",
    "add_drop_labels = ['lon', 'lat']\n",
    "log_label = [label1, label2]\n",
    "\n",
    "# log some features of test data\n",
    "for label in log_label:\n",
    "    test_data[label] = np.log(test_data[label])\n",
    "\n",
    "DIN_feature_importance = predictor_DIN.feature_importance(test_data.drop(columns=[id, label2] + add_drop_labels))\n",
    "\n",
    "DIN_feature_importance.to_csv('DIN_feature_importance.csv')\n"
   ],
   "outputs": [],
   "execution_count": 5
  },
  {
   "metadata": {},
   "cell_type": "markdown",
   "source": "# DIP",
   "id": "dd5c4c2f83a3da1b"
  },
  {
   "metadata": {
    "ExecuteTime": {
     "end_time": "2024-06-25T08:48:21.865468Z",
     "start_time": "2024-06-25T08:48:02.003629Z"
    }
   },
   "cell_type": "code",
   "source": [
    "\n",
    "from autogluon.tabular import TabularDataset, TabularPredictor\n",
    "import numpy as np\n",
    "import os\n",
    "import pandas as pd\n",
    "from nutrient_utils.my_utils import *\n",
    "\n",
    "# load the model\n",
    "predictor_DIP = TabularPredictor.load('./AutogluonModels/autogl-DIP-without-lon-lat-logoutput-final')\n",
    "\n",
    "data_dir = '/Nutrients/match_Acolite_L2/NN_input/with_qc/'\n",
    "test_data = TabularDataset(os.path.join(data_dir, 'test_autogl_mean_Baozhuyu.csv'))\n",
    "\n",
    "id, label1, label2 = 'Id', 'DIN', 'DIP'\n",
    "\n",
    "\n",
    "add_drop_labels = ['lon', 'lat']\n",
    "log_label = [label1, label2]\n",
    "\n",
    "# log some features of test data\n",
    "for label in log_label:\n",
    "    test_data[label] = np.log(test_data[label])\n",
    "\n",
    "DIP_feature_important = predictor_DIP.feature_importance(test_data.drop(columns=[id, label1] + add_drop_labels))\n",
    "\n",
    "DIP_feature_important.to_csv('DIP_feature_importance.csv')\n"
   ],
   "id": "76f625cf2f94fbea",
   "outputs": [],
   "execution_count": 6
  }
 ],
 "metadata": {
  "kernelspec": {
   "display_name": "Python 3",
   "language": "python",
   "name": "python3"
  },
  "language_info": {
   "codemirror_mode": {
    "name": "ipython",
    "version": 2
   },
   "file_extension": ".py",
   "mimetype": "text/x-python",
   "name": "python",
   "nbconvert_exporter": "python",
   "pygments_lexer": "ipython2",
   "version": "2.7.6"
  }
 },
 "nbformat": 4,
 "nbformat_minor": 5
}
