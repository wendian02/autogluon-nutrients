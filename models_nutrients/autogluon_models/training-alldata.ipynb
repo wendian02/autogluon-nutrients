{
 "cells": [
  {
   "cell_type": "markdown",
   "source": [
    "\n",
    "# train the models using all data, which is the final model for application"
   ],
   "metadata": {
    "collapsed": false
   },
   "id": "d304cc352f8a0dee"
  },
  {
   "cell_type": "code",
   "source": [
    "from autogluon.tabular import TabularDataset, TabularPredictor\n",
    "import numpy as np\n",
    "import os\n",
    "import pandas as pd\n",
    "from nutrient_utils.my_utils import *"
   ],
   "metadata": {
    "collapsed": false,
    "ExecuteTime": {
     "end_time": "2024-09-01T05:10:40.997243Z",
     "start_time": "2024-09-01T05:10:38.611663Z"
    }
   },
   "id": "c889b2005fb89417",
   "outputs": [],
   "execution_count": 1
  },
  {
   "metadata": {
    "ExecuteTime": {
     "end_time": "2024-09-01T05:10:41.017859Z",
     "start_time": "2024-09-01T05:10:41.012683Z"
    }
   },
   "cell_type": "code",
   "source": [
    "\n",
    "def train_autogluon_final(train_data):\n",
    "    id, label1, label2 = 'Id', 'DIN', 'DIP'\n",
    "    \n",
    "    add_drop_labels = ['lon', 'lat']\n",
    "    log_label = [label1, label2]\n",
    "    \n",
    "    # log some features of train data\n",
    "    for label in log_label:\n",
    "        train_data[label] = np.log(train_data[label])\n",
    "    \n",
    "    predictor = TabularPredictor(label=label1, path=f'./AutogluonModels/autogl-DIN-without-lon-lat-logoutput-final').fit(\n",
    "        train_data.drop(columns=[id, label2] + add_drop_labels),\n",
    "        hyperparameters='multimodal',\n",
    "        num_stack_levels=1, num_bag_folds=5,\n",
    "    )\n",
    "\n",
    "    predictor2 = TabularPredictor(label=label2, path=f'./AutogluonModels/autogl-DIP-without-lon-lat-logoutput-final').fit(\n",
    "        train_data.drop(columns=[id, label1] + add_drop_labels),\n",
    "        hyperparameters='multimodal',\n",
    "        num_stack_levels=1, num_bag_folds=5,\n",
    "    )\n",
    "    \n",
    "    predictor = TabularPredictor.load('./AutogluonModels/autogl-DIN-without-lon-lat-logoutput-final')\n",
    "    predictor2 = TabularPredictor.load('./AutogluonModels/autogl-DIP-without-lon-lat-logoutput-final')\n",
    "    \n",
    "    # Test\n",
    "\n",
    "    \n",
    "    preds_train = predictor.predict(train_data.drop(columns=[id, label1, label2] + add_drop_labels))\n",
    "    preds_train2 = predictor2.predict(train_data.drop(columns=[id, label1, label2] + add_drop_labels))\n",
    "\n",
    "    \n",
    "    plt.rcParams['font.sans-serif'] = ['Arial']\n",
    "    \n",
    "    font_dic = {\"size\": 16,\n",
    "                \"family\": \"Arial\"}\n",
    "    # double plot\n",
    "    _, axs = plt.subplots(1, 2, figsize=(11, 5))\n",
    "    plot_scatter(axs[0], np.exp(train_data[label1]), np.exp(preds_train), 'training', 1.4)\n",
    "    axs[0].set_title('DIN mg/L', fontdict=font_dic)\n",
    "    \n",
    "    # Plot DIP\n",
    "    plot_scatter(axs[1], np.exp(train_data[label2]), np.exp(preds_train2), 'training', 0.14)\n",
    "    axs[1].set_title('DIP mg/L', fontdict=font_dic)\n",
    "    \n",
    "    # plt.subplots_adjust(wspace=0.3)\n",
    "    plt.tight_layout()\n",
    "    plt.savefig(f'scatter_plots-autogl-final.jpg', dpi=300, bbox_inches='tight', transparent=True)\n",
    "    plt.show()\n"
   ],
   "id": "1dbf005422610666",
   "outputs": [],
   "execution_count": 2
  },
  {
   "metadata": {},
   "cell_type": "code",
   "source": [
    "data_dir = '/Nutrients/match_Acolite_L2/NN_input/with_qc/'\n",
    "\n",
    "\n",
    "p1_train_data = TabularDataset(os.path.join(data_dir, f'train_autogl_mean_Baozhuyu.csv'))  \n",
    "p2_test_data = TabularDataset(os.path.join(data_dir, f'test_autogl_mean_Baozhuyu.csv'))\n",
    "train_data = pd.concat([p1_train_data, p2_test_data], axis=0)\n",
    "print(len(train_data))\n",
    "\n",
    "train_autogluon_final(train_data)"
   ],
   "id": "8a0b63b7803a8fbd",
   "outputs": [],
   "execution_count": null
  }
 ],
 "metadata": {
  "kernelspec": {
   "name": "d2l-zh",
   "language": "python",
   "display_name": "d2l-zh"
  },
  "language_info": {
   "codemirror_mode": {
    "name": "ipython",
    "version": 2
   },
   "file_extension": ".py",
   "mimetype": "text/x-python",
   "name": "python",
   "nbconvert_exporter": "python",
   "pygments_lexer": "ipython2",
   "version": "2.7.6"
  }
 },
 "nbformat": 4,
 "nbformat_minor": 5
}
