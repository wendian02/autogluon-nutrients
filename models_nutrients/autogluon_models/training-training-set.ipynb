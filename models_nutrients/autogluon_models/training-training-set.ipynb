{
 "cells": [
  {
   "cell_type": "code",
   "execution_count": 2,
   "id": "c889b2005fb89417",
   "metadata": {
    "ExecuteTime": {
     "end_time": "2024-07-01T12:22:17.747891Z",
     "start_time": "2024-07-01T12:22:15.583523Z"
    },
    "collapsed": false,
    "jupyter": {
     "outputs_hidden": false
    }
   },
   "outputs": [],
   "source": [
    "from autogluon.tabular import TabularDataset, TabularPredictor\n",
    "import numpy as np\n",
    "import os\n",
    "import pandas as pd\n",
    "from nutrient_utils.my_utils import *"
   ]
  },
  {
   "cell_type": "code",
   "execution_count": 28,
   "id": "1dbf005422610666",
   "metadata": {
    "ExecuteTime": {
     "end_time": "2024-07-01T12:38:18.989772Z",
     "start_time": "2024-07-01T12:38:18.981310Z"
    }
   },
   "outputs": [],
   "source": [
    "\n",
    "def train_autogluon(train_data, test_data, individual_buoy):\n",
    "    id, label1, label2 = 'Id', 'DIN', 'DIP'\n",
    "    \n",
    "    add_drop_labels = ['lon', 'lat']\n",
    "    log_label = [label1, label2]\n",
    "    \n",
    "    # log some features of train data\n",
    "    for label in log_label:\n",
    "        train_data[label] = np.log(train_data[label])\n",
    "    \n",
    "    predictor = TabularPredictor(label=label1, path=f'./AutogluonModels/autogl-DIN-without-lon-lat-logoutput-{individual_buoy}').fit(\n",
    "        train_data.drop(columns=[id, label2] + add_drop_labels),\n",
    "        hyperparameters='multimodal',\n",
    "        num_stack_levels=1, num_bag_folds=5,\n",
    "    )\n",
    "\n",
    "    predictor2 = TabularPredictor(label=label2, path=f'./AutogluonModels/autogl-DIP-without-lon-lat-logoutput-{individual_buoy}').fit(\n",
    "        train_data.drop(columns=[id, label1] + add_drop_labels),\n",
    "        hyperparameters='multimodal',\n",
    "        num_stack_levels=1, num_bag_folds=5,\n",
    "    )\n",
    "    \n",
    "    predictor = TabularPredictor.load(f'./AutogluonModels/autogl-DIN-without-lon-lat-logoutput-{individual_buoy}')\n",
    "    predictor2 = TabularPredictor.load(f'./AutogluonModels/autogl-DIP-without-lon-lat-logoutput-{individual_buoy}')\n",
    "    \n",
    "    # Test\n",
    "\n",
    "    # log some features of test data\n",
    "    for label in log_label:\n",
    "        test_data[label] = np.log(test_data[label])\n",
    "    \n",
    "    \n",
    "    preds = predictor.predict(test_data.drop(columns=[id, label1, label2] + add_drop_labels))\n",
    "    preds_train = predictor.predict(train_data.drop(columns=[id, label1, label2] + add_drop_labels))\n",
    "    \n",
    "    preds2 = predictor2.predict(test_data.drop(columns=[id, label1, label2] + add_drop_labels))\n",
    "    preds_train2 = predictor2.predict(train_data.drop(columns=[id, label1, label2] + add_drop_labels))\n",
    "    \n",
    "\n",
    "    \n",
    "    plt.rcParams['font.sans-serif'] = ['Arial']\n",
    "    \n",
    "    font_dic = {\"size\": 16,\n",
    "                \"family\": \"Arial\"}\n",
    "    # double plot\n",
    "    # _, axs = plt.subplots(1, 2, figsize=(11, 5))\n",
    "    # plot_scatter(axs[0], np.exp(train_data[label1]), np.exp(preds_train), 'training', 1.4)\n",
    "    # plot_scatter(axs[0], np.exp(test_data[label1]), np.exp(preds), 'testing', 1.4)\n",
    "    # axs[0].set_title('DIN mg/L', fontdict=font_dic)\n",
    "    # \n",
    "    # # Plot DIP\n",
    "    # plot_scatter(axs[1], np.exp(train_data[label2]), np.exp(preds_train2), 'training', 0.14)\n",
    "    # plot_scatter(axs[1], np.exp(test_data[label2]), np.exp(preds2), 'testing', 0.14)\n",
    "    # axs[1].set_title('DIP mg/L', fontdict=font_dic)\n",
    "    # \n",
    "    # # plt.subplots_adjust(wspace=0.3)\n",
    "    # plt.tight_layout()\n",
    "    # plt.savefig(f'scatter_plots-autogl-{individual_buoy}.jpg', dpi=300, bbox_inches='tight', transparent=True)\n",
    "    # plt.show()\n",
    "    pd.DataFrame(np.exp(train_data[label1]))\n",
    "    \n",
    "    columns_name = ['true', 'pred']\n",
    "    df_DIN_train = pd.concat([pd.DataFrame(np.exp(train_data[label1])), \n",
    "                              pd.DataFrame(np.exp(preds_train))], axis=1)\n",
    "    df_DIN_train.columns = columns_name\n",
    "    df_DIN_test = pd.concat([pd.DataFrame(np.exp(test_data[label1])),\n",
    "                             pd.DataFrame(np.exp(preds))], axis=1)\n",
    "    df_DIN_test.columns = columns_name\n",
    "    df_DIP_train = pd.concat([pd.DataFrame(np.exp(train_data[label2])),\n",
    "                              pd.DataFrame(np.exp(preds_train2))], axis=1)\n",
    "    df_DIP_train.columns = columns_name\n",
    "    df_DIP_test = pd.concat([pd.DataFrame(np.exp(test_data[label2])),\n",
    "                             pd.DataFrame(np.exp(preds2))], axis=1)\n",
    "    df_DIP_test.columns = columns_name\n",
    "    \n",
    "    df_DIN_train.to_csv(f'DIN_train-{individual_buoy}.csv', index=False)\n",
    "    df_DIP_train.to_csv(f'DIP_train-{individual_buoy}.csv', index=False)\n",
    "    df_DIN_test.to_csv(f'DIN_test-{individual_buoy}.csv', index=False)\n",
    "    df_DIP_test.to_csv(f'DIP_test-{individual_buoy}.csv', index=False)\n"
   ]
  },
  {
   "cell_type": "code",
   "execution_count": 29,
   "id": "8148e7bb49ccd72d",
   "metadata": {
    "ExecuteTime": {
     "end_time": "2024-07-01T12:38:23.290489Z",
     "start_time": "2024-07-01T12:38:21.636377Z"
    }
   },
   "outputs": [],
   "source": [
    "data_dir = '/Python/Nutrients/match_Acolite_L2/NN_input/with_qc'\n",
    "individual_buoys =['Baozhuyu']\n",
    "\n",
    "for individual_buoy in individual_buoys:\n",
    "    train_data = TabularDataset(os.path.join(data_dir, f'train_autogl_mean_{individual_buoy}.csv'))\n",
    "    test_data = TabularDataset(os.path.join(data_dir, f'test_autogl_mean_{individual_buoy}.csv'))\n",
    "    train_autogluon(train_data, test_data, individual_buoy)"
   ]
  }
 ],
 "metadata": {
  "kernelspec": {
   "display_name": "d2l-zh",
   "language": "python",
   "name": "d2l-zh"
  },
  "language_info": {
   "codemirror_mode": {
    "name": "ipython",
    "version": 3
   },
   "file_extension": ".py",
   "mimetype": "text/x-python",
   "name": "python",
   "nbconvert_exporter": "python",
   "pygments_lexer": "ipython3",
   "version": "3.11.5"
  }
 },
 "nbformat": 4,
 "nbformat_minor": 5
}
